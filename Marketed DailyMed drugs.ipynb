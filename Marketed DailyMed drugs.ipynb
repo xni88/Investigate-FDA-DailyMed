{
 "cells": [
  {
   "cell_type": "markdown",
   "metadata": {},
   "source": [
    "## Investigate the drugs submitted to the FDA"
   ]
  },
  {
   "cell_type": "markdown",
   "metadata": {},
   "source": [
    "DailyMed provides high quality information about marketed drugs. This information includes FDA labels (package inserts). This data set can be found on healthdata.gov"
   ]
  },
  {
   "cell_type": "markdown",
   "metadata": {},
   "source": [
    "### Query data"
   ]
  },
  {
   "cell_type": "markdown",
   "metadata": {},
   "source": [
    "Import all the modules we expect to use for cleaning, analysis, visualization, and machine learning."
   ]
  },
  {
   "cell_type": "code",
   "execution_count": 3,
   "metadata": {},
   "outputs": [],
   "source": [
    "import pandas as pd\n",
    "import json, requests, csv\n",
    "import numpy as np\n",
    "import matplotlib.pyplot as plt\n",
    "import seaborn as sns\n",
    "import statsmodels.api as sm\n",
    "from sklearn.model_selection import train_test_split\n",
    "from sklearn.linear_model import LogisticRegression\n",
    "from sklearn.metrics import confusion_matrix, accuracy_score, classification_report\n",
    "%matplotlib inline"
   ]
  },
  {
   "cell_type": "markdown",
   "metadata": {},
   "source": [
    "Use request and json to load and extract online data via DailyMed Restful API. There are a base URI and several extensions. "
   ]
  },
  {
   "cell_type": "code",
   "execution_count": 16,
   "metadata": {},
   "outputs": [],
   "source": [
    "urlspls='https://dailymed.nlm.nih.gov/dailymed/services/v2/spls.json'\n",
    "\n",
    "dea_schedule_code=['C48675','C48676','C48677','C48679','C48672','none']\n",
    "dea='dea_schedule_code'\n",
    "warning='boxed_warning'\n",
    "boxed_warning=['true', 'false']"
   ]
  },
  {
   "cell_type": "markdown",
   "metadata": {},
   "source": [
    "Define a function called totalpages to be used in another function. The purpose of this function is to find the pages for category variables and then extact the data and add them to additional columns in the table."
   ]
  },
  {
   "cell_type": "code",
   "execution_count": 10,
   "metadata": {},
   "outputs": [],
   "source": [
    "def totalpages(url, category, column):\n",
    "    categorypages=[]\n",
    "    for i in category:        \n",
    "        parameters = {column: i, \"pagesize\": 100, \"page\": 1}\n",
    "        r = requests.get(url,params=parameters)\n",
    "        r.raise_for_status()\n",
    "        file_parsed = json.loads(r.text)\n",
    "        totalpages=file_parsed[\"metadata\"][\"total_pages\"]\n",
    "        categorypages.append(totalpages)\n",
    "    return categorypages"
   ]
  },
  {
   "cell_type": "code",
   "execution_count": 18,
   "metadata": {},
   "outputs": [
    {
     "name": "stdout",
     "output_type": "stream",
     "text": [
      "[11, 6, 16, 3, 0, 1077]\n"
     ]
    }
   ],
   "source": [
    "# get the page of each dea_schedule_code category\n",
    "pageofcode=totalpages(urlspls, dea_schedule_code, dea)\n",
    "print(pageofcode)"
   ]
  },
  {
   "cell_type": "code",
   "execution_count": 5,
   "metadata": {},
   "outputs": [
    {
     "name": "stdout",
     "output_type": "stream",
     "text": [
      "[126, 985]\n"
     ]
    }
   ],
   "source": [
    "# get the page of each boxed_warning category\n",
    "pageofcode2=totalpages(urlspls, boxed_warning, warning)\n",
    "print(pageofcode2)"
   ]
  },
  {
   "cell_type": "markdown",
   "metadata": {},
   "source": [
    "Define a function named desireddata to write the json data into csv files based on the url and the extension that is desired. "
   ]
  },
  {
   "cell_type": "code",
   "execution_count": 11,
   "metadata": {},
   "outputs": [],
   "source": [
    "def desireddata(url, category, column):\n",
    "    pages=totalpages(url, category, column)\n",
    "    for i in range(len(category)):        \n",
    "        \n",
    "        p=1\n",
    "        while p <=pages[i]:\n",
    "            parameters = {column: category[i], \"pagesize\": 100, \"page\": p}\n",
    "            r = requests.get(url,params=parameters)\n",
    "            r.raise_for_status()\n",
    "            file_parsed = json.loads(r.text)\n",
    "            files = file_parsed[\"data\"]\n",
    "                \n",
    "            if p==1:\n",
    "                with open(category[i]+'.csv', 'w', encoding='utf-8', newline='') as f:\n",
    "                    csvwriter = csv.writer(f)\n",
    "                    count=0\n",
    "                    for file in files:\n",
    "                        if count == 0:\n",
    "                            header = file.keys()\n",
    "                            csvwriter.writerow(header)\n",
    "                            count += 1\n",
    "                        csvwriter.writerow(file.values())\n",
    "            elif p>1:\n",
    "                with open(category[i]+'.csv', 'a', encoding='utf-8', newline='') as f:\n",
    "                    csvwriter = csv.writer(f)\n",
    "                    for file in files:\n",
    "                        csvwriter.writerow(file.values())\n",
    "            p+=1\n",
    "                \n",
    "#             if p>100:\n",
    "#                 break             \n",
    "        "
   ]
  },
  {
   "cell_type": "code",
   "execution_count": 20,
   "metadata": {},
   "outputs": [],
   "source": [
    "desireddata(urlspls, dea_schedule_code, dea)"
   ]
  },
  {
   "cell_type": "code",
   "execution_count": 21,
   "metadata": {},
   "outputs": [],
   "source": [
    "df1=pd.read_csv('none.csv')\n",
    "df3=pd.read_csv('C48675.csv')\n",
    "df4=pd.read_csv('C48676.csv')\n",
    "df5=pd.read_csv('C48677.csv')\n",
    "df6=pd.read_csv('C48679.csv')"
   ]
  },
  {
   "cell_type": "code",
   "execution_count": 22,
   "metadata": {},
   "outputs": [
    {
     "data": {
      "text/html": [
       "<div>\n",
       "<style scoped>\n",
       "    .dataframe tbody tr th:only-of-type {\n",
       "        vertical-align: middle;\n",
       "    }\n",
       "\n",
       "    .dataframe tbody tr th {\n",
       "        vertical-align: top;\n",
       "    }\n",
       "\n",
       "    .dataframe thead th {\n",
       "        text-align: right;\n",
       "    }\n",
       "</style>\n",
       "<table border=\"1\" class=\"dataframe\">\n",
       "  <thead>\n",
       "    <tr style=\"text-align: right;\">\n",
       "      <th></th>\n",
       "      <th>spl_version</th>\n",
       "      <th>published_date</th>\n",
       "      <th>title</th>\n",
       "      <th>setid</th>\n",
       "    </tr>\n",
       "  </thead>\n",
       "  <tbody>\n",
       "    <tr>\n",
       "      <th>0</th>\n",
       "      <td>10</td>\n",
       "      <td>Jun 19, 2019</td>\n",
       "      <td>PYRIDOSTIGMINE BROMIDE TABLET, EXTENDED RELEAS...</td>\n",
       "      <td>013a6524-6eb9-4dbf-b29c-9aec2f40d2d0</td>\n",
       "    </tr>\n",
       "    <tr>\n",
       "      <th>1</th>\n",
       "      <td>9</td>\n",
       "      <td>Jun 19, 2019</td>\n",
       "      <td>FLURBIPROFEN TABLET, FILM COATED [PD-RX PHARMA...</td>\n",
       "      <td>0585c6bf-e401-4112-b4b4-c8d56c3b0f1c</td>\n",
       "    </tr>\n",
       "    <tr>\n",
       "      <th>2</th>\n",
       "      <td>11</td>\n",
       "      <td>Jun 19, 2019</td>\n",
       "      <td>CLOPIDOGREL TABLET [MACLEODS PHARMACEUTICALS L...</td>\n",
       "      <td>063cd1eb-98fd-422e-8145-bba04c497efe</td>\n",
       "    </tr>\n",
       "    <tr>\n",
       "      <th>3</th>\n",
       "      <td>9</td>\n",
       "      <td>Jun 19, 2019</td>\n",
       "      <td>DOCETAXEL INJECTION, SOLUTION, CONCENTRATE [JI...</td>\n",
       "      <td>07a538b3-2cf1-40e1-871f-f932863eb3a3</td>\n",
       "    </tr>\n",
       "    <tr>\n",
       "      <th>4</th>\n",
       "      <td>4</td>\n",
       "      <td>Jun 19, 2019</td>\n",
       "      <td>CLINDAMYCIN PALMITATE HYDROCHLORIDE (PEDIATRIC...</td>\n",
       "      <td>0800afad-e4cd-4f70-aaa1-a14547be4729</td>\n",
       "    </tr>\n",
       "  </tbody>\n",
       "</table>\n",
       "</div>"
      ],
      "text/plain": [
       "   spl_version published_date  \\\n",
       "0           10   Jun 19, 2019   \n",
       "1            9   Jun 19, 2019   \n",
       "2           11   Jun 19, 2019   \n",
       "3            9   Jun 19, 2019   \n",
       "4            4   Jun 19, 2019   \n",
       "\n",
       "                                               title  \\\n",
       "0  PYRIDOSTIGMINE BROMIDE TABLET, EXTENDED RELEAS...   \n",
       "1  FLURBIPROFEN TABLET, FILM COATED [PD-RX PHARMA...   \n",
       "2  CLOPIDOGREL TABLET [MACLEODS PHARMACEUTICALS L...   \n",
       "3  DOCETAXEL INJECTION, SOLUTION, CONCENTRATE [JI...   \n",
       "4  CLINDAMYCIN PALMITATE HYDROCHLORIDE (PEDIATRIC...   \n",
       "\n",
       "                                  setid  \n",
       "0  013a6524-6eb9-4dbf-b29c-9aec2f40d2d0  \n",
       "1  0585c6bf-e401-4112-b4b4-c8d56c3b0f1c  \n",
       "2  063cd1eb-98fd-422e-8145-bba04c497efe  \n",
       "3  07a538b3-2cf1-40e1-871f-f932863eb3a3  \n",
       "4  0800afad-e4cd-4f70-aaa1-a14547be4729  "
      ]
     },
     "execution_count": 22,
     "metadata": {},
     "output_type": "execute_result"
    }
   ],
   "source": [
    "df1.head()"
   ]
  },
  {
   "cell_type": "code",
   "execution_count": 23,
   "metadata": {},
   "outputs": [],
   "source": [
    "df1['dea_schedule_code']='none'\n",
    "df3['dea_schedule_code']='CII'\n",
    "df4['dea_schedule_code']='CIII'\n",
    "df5['dea_schedule_code']='CIV'\n",
    "df6['dea_schedule_code']='CV'"
   ]
  },
  {
   "cell_type": "code",
   "execution_count": 24,
   "metadata": {},
   "outputs": [],
   "source": [
    "# concatenate the dataframes of dea schedule code\n",
    "df_spls=pd.concat([df1, df3,df4,df5,df6], ignore_index=True)"
   ]
  },
  {
   "cell_type": "code",
   "execution_count": 25,
   "metadata": {},
   "outputs": [
    {
     "name": "stdout",
     "output_type": "stream",
     "text": [
      "<class 'pandas.core.frame.DataFrame'>\n",
      "RangeIndex: 110975 entries, 0 to 110974\n",
      "Data columns (total 5 columns):\n",
      "spl_version          110975 non-null int64\n",
      "published_date       110975 non-null object\n",
      "title                110881 non-null object\n",
      "setid                110975 non-null object\n",
      "dea_schedule_code    110975 non-null object\n",
      "dtypes: int64(1), object(4)\n",
      "memory usage: 4.2+ MB\n"
     ]
    }
   ],
   "source": [
    "df_spls.info()"
   ]
  },
  {
   "cell_type": "code",
   "execution_count": 26,
   "metadata": {},
   "outputs": [],
   "source": [
    "desireddata(urlspls, boxed_warning, warning)"
   ]
  },
  {
   "cell_type": "code",
   "execution_count": 28,
   "metadata": {},
   "outputs": [],
   "source": [
    "df7=pd.read_csv('true.csv')\n",
    "df8=pd.read_csv('false.csv')"
   ]
  },
  {
   "cell_type": "code",
   "execution_count": 29,
   "metadata": {},
   "outputs": [],
   "source": [
    "df7['boxed_warning']=True\n",
    "df8['boxed_warning']=False"
   ]
  },
  {
   "cell_type": "code",
   "execution_count": 30,
   "metadata": {},
   "outputs": [],
   "source": [
    "# concatenate the dataframes of boxed warning\n",
    "df_spls2=pd.concat([df7,df8],ignore_index=True)"
   ]
  },
  {
   "cell_type": "code",
   "execution_count": 31,
   "metadata": {},
   "outputs": [
    {
     "name": "stdout",
     "output_type": "stream",
     "text": [
      "<class 'pandas.core.frame.DataFrame'>\n",
      "RangeIndex: 110974 entries, 0 to 110973\n",
      "Data columns (total 5 columns):\n",
      "spl_version       110974 non-null int64\n",
      "published_date    110974 non-null object\n",
      "title             110880 non-null object\n",
      "setid             110974 non-null object\n",
      "boxed_warning     110974 non-null bool\n",
      "dtypes: bool(1), int64(1), object(3)\n",
      "memory usage: 3.5+ MB\n"
     ]
    }
   ],
   "source": [
    "df_spls2.info()"
   ]
  },
  {
   "cell_type": "code",
   "execution_count": 32,
   "metadata": {},
   "outputs": [
    {
     "data": {
      "text/html": [
       "<div>\n",
       "<style scoped>\n",
       "    .dataframe tbody tr th:only-of-type {\n",
       "        vertical-align: middle;\n",
       "    }\n",
       "\n",
       "    .dataframe tbody tr th {\n",
       "        vertical-align: top;\n",
       "    }\n",
       "\n",
       "    .dataframe thead th {\n",
       "        text-align: right;\n",
       "    }\n",
       "</style>\n",
       "<table border=\"1\" class=\"dataframe\">\n",
       "  <thead>\n",
       "    <tr style=\"text-align: right;\">\n",
       "      <th></th>\n",
       "      <th>spl_version</th>\n",
       "      <th>published_date</th>\n",
       "      <th>title</th>\n",
       "      <th>setid</th>\n",
       "      <th>boxed_warning</th>\n",
       "    </tr>\n",
       "  </thead>\n",
       "  <tbody>\n",
       "    <tr>\n",
       "      <th>110969</th>\n",
       "      <td>1</td>\n",
       "      <td>Jul 25, 2006</td>\n",
       "      <td>ENLON-PLUS (EDROPHONIUM CHLORIDE AND ATROPINE ...</td>\n",
       "      <td>bdeb47eb-e538-498d-ae98-14d5db29eab0</td>\n",
       "      <td>False</td>\n",
       "    </tr>\n",
       "    <tr>\n",
       "      <th>110970</th>\n",
       "      <td>1</td>\n",
       "      <td>Jul 25, 2006</td>\n",
       "      <td>UROBIOTIC (OXYTETRACYCLINE HYDROCHLORIDE, SULF...</td>\n",
       "      <td>be27854a-a805-4300-9729-accd1b7f226f</td>\n",
       "      <td>False</td>\n",
       "    </tr>\n",
       "    <tr>\n",
       "      <th>110971</th>\n",
       "      <td>1</td>\n",
       "      <td>Jul 25, 2006</td>\n",
       "      <td>HYDROCODONE BITARTRATE AND ACETAMINOPHEN (HYDR...</td>\n",
       "      <td>e728d78e-242f-4a43-bb08-5e467cbfb4b7</td>\n",
       "      <td>False</td>\n",
       "    </tr>\n",
       "    <tr>\n",
       "      <th>110972</th>\n",
       "      <td>1</td>\n",
       "      <td>Jul 18, 2006</td>\n",
       "      <td>PLASMA-LYTE R (SODIUM CHLORIDE, POTASSIUM CHLO...</td>\n",
       "      <td>1f32c7ce-8ec1-43d1-8e24-e7d486194938</td>\n",
       "      <td>False</td>\n",
       "    </tr>\n",
       "    <tr>\n",
       "      <th>110973</th>\n",
       "      <td>1</td>\n",
       "      <td>Jul 18, 2006</td>\n",
       "      <td>PSORCON (DIFLORASONE DIACETATE) OINTMENT [DERM...</td>\n",
       "      <td>29c78a72-3dde-493f-b6a2-f286bec1f09e</td>\n",
       "      <td>False</td>\n",
       "    </tr>\n",
       "  </tbody>\n",
       "</table>\n",
       "</div>"
      ],
      "text/plain": [
       "        spl_version published_date  \\\n",
       "110969            1   Jul 25, 2006   \n",
       "110970            1   Jul 25, 2006   \n",
       "110971            1   Jul 25, 2006   \n",
       "110972            1   Jul 18, 2006   \n",
       "110973            1   Jul 18, 2006   \n",
       "\n",
       "                                                    title  \\\n",
       "110969  ENLON-PLUS (EDROPHONIUM CHLORIDE AND ATROPINE ...   \n",
       "110970  UROBIOTIC (OXYTETRACYCLINE HYDROCHLORIDE, SULF...   \n",
       "110971  HYDROCODONE BITARTRATE AND ACETAMINOPHEN (HYDR...   \n",
       "110972  PLASMA-LYTE R (SODIUM CHLORIDE, POTASSIUM CHLO...   \n",
       "110973  PSORCON (DIFLORASONE DIACETATE) OINTMENT [DERM...   \n",
       "\n",
       "                                       setid  boxed_warning  \n",
       "110969  bdeb47eb-e538-498d-ae98-14d5db29eab0          False  \n",
       "110970  be27854a-a805-4300-9729-accd1b7f226f          False  \n",
       "110971  e728d78e-242f-4a43-bb08-5e467cbfb4b7          False  \n",
       "110972  1f32c7ce-8ec1-43d1-8e24-e7d486194938          False  \n",
       "110973  29c78a72-3dde-493f-b6a2-f286bec1f09e          False  "
      ]
     },
     "execution_count": 32,
     "metadata": {},
     "output_type": "execute_result"
    }
   ],
   "source": [
    "df_spls2.tail()"
   ]
  },
  {
   "cell_type": "code",
   "execution_count": 33,
   "metadata": {},
   "outputs": [],
   "source": [
    "df_spls3=df_spls2[['setid','boxed_warning']]"
   ]
  },
  {
   "cell_type": "code",
   "execution_count": 34,
   "metadata": {},
   "outputs": [
    {
     "data": {
      "text/html": [
       "<div>\n",
       "<style scoped>\n",
       "    .dataframe tbody tr th:only-of-type {\n",
       "        vertical-align: middle;\n",
       "    }\n",
       "\n",
       "    .dataframe tbody tr th {\n",
       "        vertical-align: top;\n",
       "    }\n",
       "\n",
       "    .dataframe thead th {\n",
       "        text-align: right;\n",
       "    }\n",
       "</style>\n",
       "<table border=\"1\" class=\"dataframe\">\n",
       "  <thead>\n",
       "    <tr style=\"text-align: right;\">\n",
       "      <th></th>\n",
       "      <th>setid</th>\n",
       "      <th>boxed_warning</th>\n",
       "    </tr>\n",
       "  </thead>\n",
       "  <tbody>\n",
       "    <tr>\n",
       "      <th>0</th>\n",
       "      <td>0585c6bf-e401-4112-b4b4-c8d56c3b0f1c</td>\n",
       "      <td>True</td>\n",
       "    </tr>\n",
       "    <tr>\n",
       "      <th>1</th>\n",
       "      <td>063cd1eb-98fd-422e-8145-bba04c497efe</td>\n",
       "      <td>True</td>\n",
       "    </tr>\n",
       "    <tr>\n",
       "      <th>2</th>\n",
       "      <td>07a538b3-2cf1-40e1-871f-f932863eb3a3</td>\n",
       "      <td>True</td>\n",
       "    </tr>\n",
       "    <tr>\n",
       "      <th>3</th>\n",
       "      <td>0800afad-e4cd-4f70-aaa1-a14547be4729</td>\n",
       "      <td>True</td>\n",
       "    </tr>\n",
       "    <tr>\n",
       "      <th>4</th>\n",
       "      <td>2ec5c30f-4eb8-48a5-83c4-236450413464</td>\n",
       "      <td>True</td>\n",
       "    </tr>\n",
       "  </tbody>\n",
       "</table>\n",
       "</div>"
      ],
      "text/plain": [
       "                                  setid  boxed_warning\n",
       "0  0585c6bf-e401-4112-b4b4-c8d56c3b0f1c           True\n",
       "1  063cd1eb-98fd-422e-8145-bba04c497efe           True\n",
       "2  07a538b3-2cf1-40e1-871f-f932863eb3a3           True\n",
       "3  0800afad-e4cd-4f70-aaa1-a14547be4729           True\n",
       "4  2ec5c30f-4eb8-48a5-83c4-236450413464           True"
      ]
     },
     "execution_count": 34,
     "metadata": {},
     "output_type": "execute_result"
    }
   ],
   "source": [
    "df_spls3.head()"
   ]
  },
  {
   "cell_type": "markdown",
   "metadata": {},
   "source": [
    "#### Merge dataframes\n",
    "\n",
    "Add two addtional columns 'dea_schedule_code' and 'boxed_warning' to the data set extract from 'https://dailymed.nlm.nih.gov/dailymed/services/v2/spls.json'"
   ]
  },
  {
   "cell_type": "code",
   "execution_count": 35,
   "metadata": {},
   "outputs": [],
   "source": [
    "df_spls_all = pd.merge(df_spls, df_spls3, on='setid')"
   ]
  },
  {
   "cell_type": "code",
   "execution_count": 36,
   "metadata": {},
   "outputs": [
    {
     "data": {
      "text/html": [
       "<div>\n",
       "<style scoped>\n",
       "    .dataframe tbody tr th:only-of-type {\n",
       "        vertical-align: middle;\n",
       "    }\n",
       "\n",
       "    .dataframe tbody tr th {\n",
       "        vertical-align: top;\n",
       "    }\n",
       "\n",
       "    .dataframe thead th {\n",
       "        text-align: right;\n",
       "    }\n",
       "</style>\n",
       "<table border=\"1\" class=\"dataframe\">\n",
       "  <thead>\n",
       "    <tr style=\"text-align: right;\">\n",
       "      <th></th>\n",
       "      <th>spl_version</th>\n",
       "      <th>published_date</th>\n",
       "      <th>title</th>\n",
       "      <th>setid</th>\n",
       "      <th>dea_schedule_code</th>\n",
       "      <th>boxed_warning</th>\n",
       "    </tr>\n",
       "  </thead>\n",
       "  <tbody>\n",
       "    <tr>\n",
       "      <th>0</th>\n",
       "      <td>10</td>\n",
       "      <td>Jun 19, 2019</td>\n",
       "      <td>PYRIDOSTIGMINE BROMIDE TABLET, EXTENDED RELEAS...</td>\n",
       "      <td>013a6524-6eb9-4dbf-b29c-9aec2f40d2d0</td>\n",
       "      <td>none</td>\n",
       "      <td>False</td>\n",
       "    </tr>\n",
       "    <tr>\n",
       "      <th>1</th>\n",
       "      <td>9</td>\n",
       "      <td>Jun 19, 2019</td>\n",
       "      <td>FLURBIPROFEN TABLET, FILM COATED [PD-RX PHARMA...</td>\n",
       "      <td>0585c6bf-e401-4112-b4b4-c8d56c3b0f1c</td>\n",
       "      <td>none</td>\n",
       "      <td>True</td>\n",
       "    </tr>\n",
       "    <tr>\n",
       "      <th>2</th>\n",
       "      <td>11</td>\n",
       "      <td>Jun 19, 2019</td>\n",
       "      <td>CLOPIDOGREL TABLET [MACLEODS PHARMACEUTICALS L...</td>\n",
       "      <td>063cd1eb-98fd-422e-8145-bba04c497efe</td>\n",
       "      <td>none</td>\n",
       "      <td>True</td>\n",
       "    </tr>\n",
       "    <tr>\n",
       "      <th>3</th>\n",
       "      <td>9</td>\n",
       "      <td>Jun 19, 2019</td>\n",
       "      <td>DOCETAXEL INJECTION, SOLUTION, CONCENTRATE [JI...</td>\n",
       "      <td>07a538b3-2cf1-40e1-871f-f932863eb3a3</td>\n",
       "      <td>none</td>\n",
       "      <td>True</td>\n",
       "    </tr>\n",
       "    <tr>\n",
       "      <th>4</th>\n",
       "      <td>4</td>\n",
       "      <td>Jun 19, 2019</td>\n",
       "      <td>CLINDAMYCIN PALMITATE HYDROCHLORIDE (PEDIATRIC...</td>\n",
       "      <td>0800afad-e4cd-4f70-aaa1-a14547be4729</td>\n",
       "      <td>none</td>\n",
       "      <td>True</td>\n",
       "    </tr>\n",
       "  </tbody>\n",
       "</table>\n",
       "</div>"
      ],
      "text/plain": [
       "   spl_version published_date  \\\n",
       "0           10   Jun 19, 2019   \n",
       "1            9   Jun 19, 2019   \n",
       "2           11   Jun 19, 2019   \n",
       "3            9   Jun 19, 2019   \n",
       "4            4   Jun 19, 2019   \n",
       "\n",
       "                                               title  \\\n",
       "0  PYRIDOSTIGMINE BROMIDE TABLET, EXTENDED RELEAS...   \n",
       "1  FLURBIPROFEN TABLET, FILM COATED [PD-RX PHARMA...   \n",
       "2  CLOPIDOGREL TABLET [MACLEODS PHARMACEUTICALS L...   \n",
       "3  DOCETAXEL INJECTION, SOLUTION, CONCENTRATE [JI...   \n",
       "4  CLINDAMYCIN PALMITATE HYDROCHLORIDE (PEDIATRIC...   \n",
       "\n",
       "                                  setid dea_schedule_code  boxed_warning  \n",
       "0  013a6524-6eb9-4dbf-b29c-9aec2f40d2d0              none          False  \n",
       "1  0585c6bf-e401-4112-b4b4-c8d56c3b0f1c              none           True  \n",
       "2  063cd1eb-98fd-422e-8145-bba04c497efe              none           True  \n",
       "3  07a538b3-2cf1-40e1-871f-f932863eb3a3              none           True  \n",
       "4  0800afad-e4cd-4f70-aaa1-a14547be4729              none           True  "
      ]
     },
     "execution_count": 36,
     "metadata": {},
     "output_type": "execute_result"
    }
   ],
   "source": [
    "df_spls_all.head()"
   ]
  },
  {
   "cell_type": "code",
   "execution_count": 37,
   "metadata": {},
   "outputs": [
    {
     "data": {
      "text/html": [
       "<div>\n",
       "<style scoped>\n",
       "    .dataframe tbody tr th:only-of-type {\n",
       "        vertical-align: middle;\n",
       "    }\n",
       "\n",
       "    .dataframe tbody tr th {\n",
       "        vertical-align: top;\n",
       "    }\n",
       "\n",
       "    .dataframe thead th {\n",
       "        text-align: right;\n",
       "    }\n",
       "</style>\n",
       "<table border=\"1\" class=\"dataframe\">\n",
       "  <thead>\n",
       "    <tr style=\"text-align: right;\">\n",
       "      <th></th>\n",
       "      <th>spl_version</th>\n",
       "      <th>published_date</th>\n",
       "      <th>title</th>\n",
       "      <th>setid</th>\n",
       "      <th>dea_schedule_code</th>\n",
       "      <th>boxed_warning</th>\n",
       "    </tr>\n",
       "  </thead>\n",
       "  <tbody>\n",
       "    <tr>\n",
       "      <th>110970</th>\n",
       "      <td>1</td>\n",
       "      <td>Mar 30, 2010</td>\n",
       "      <td>DIPHENOXYLATE HCL AND ATROPINE SULFATE TABLET ...</td>\n",
       "      <td>542b6ceb-7ad4-4d0d-b604-79bd1f567d79</td>\n",
       "      <td>CV</td>\n",
       "      <td>False</td>\n",
       "    </tr>\n",
       "    <tr>\n",
       "      <th>110971</th>\n",
       "      <td>1</td>\n",
       "      <td>Jan 25, 2010</td>\n",
       "      <td>FEXOFENADINE HYDROCHLORIDE AND PSEUDOEPHEDRINE...</td>\n",
       "      <td>cf6676ff-1122-4495-b64d-f70771a09633</td>\n",
       "      <td>CV</td>\n",
       "      <td>False</td>\n",
       "    </tr>\n",
       "    <tr>\n",
       "      <th>110972</th>\n",
       "      <td>1</td>\n",
       "      <td>Nov 13, 2009</td>\n",
       "      <td>LOMOTIL (DIPHENOXYLATE HYDROCHLORIDE) TABLET [...</td>\n",
       "      <td>d2b171be-ac59-48ec-84da-03d3f2d34ca6</td>\n",
       "      <td>CV</td>\n",
       "      <td>False</td>\n",
       "    </tr>\n",
       "    <tr>\n",
       "      <th>110973</th>\n",
       "      <td>1</td>\n",
       "      <td>Mar 20, 2009</td>\n",
       "      <td>PSEUDODINE C (TRIPROLIDINE HYDROCHLORIDE, PSEU...</td>\n",
       "      <td>dd62a5eb-dd5a-4329-8696-07acb555af10</td>\n",
       "      <td>CV</td>\n",
       "      <td>False</td>\n",
       "    </tr>\n",
       "    <tr>\n",
       "      <th>110974</th>\n",
       "      <td>1</td>\n",
       "      <td>Dec 22, 2006</td>\n",
       "      <td>ACETAMINOPHEN AND CODEINE PHOSPHATE (ACETAMINO...</td>\n",
       "      <td>l95ac6875-6b14-4cde-8efb-80704e39b8d8</td>\n",
       "      <td>CV</td>\n",
       "      <td>False</td>\n",
       "    </tr>\n",
       "  </tbody>\n",
       "</table>\n",
       "</div>"
      ],
      "text/plain": [
       "        spl_version published_date  \\\n",
       "110970            1   Mar 30, 2010   \n",
       "110971            1   Jan 25, 2010   \n",
       "110972            1   Nov 13, 2009   \n",
       "110973            1   Mar 20, 2009   \n",
       "110974            1   Dec 22, 2006   \n",
       "\n",
       "                                                    title  \\\n",
       "110970  DIPHENOXYLATE HCL AND ATROPINE SULFATE TABLET ...   \n",
       "110971  FEXOFENADINE HYDROCHLORIDE AND PSEUDOEPHEDRINE...   \n",
       "110972  LOMOTIL (DIPHENOXYLATE HYDROCHLORIDE) TABLET [...   \n",
       "110973  PSEUDODINE C (TRIPROLIDINE HYDROCHLORIDE, PSEU...   \n",
       "110974  ACETAMINOPHEN AND CODEINE PHOSPHATE (ACETAMINO...   \n",
       "\n",
       "                                        setid dea_schedule_code  boxed_warning  \n",
       "110970   542b6ceb-7ad4-4d0d-b604-79bd1f567d79                CV          False  \n",
       "110971   cf6676ff-1122-4495-b64d-f70771a09633                CV          False  \n",
       "110972   d2b171be-ac59-48ec-84da-03d3f2d34ca6                CV          False  \n",
       "110973   dd62a5eb-dd5a-4329-8696-07acb555af10                CV          False  \n",
       "110974  l95ac6875-6b14-4cde-8efb-80704e39b8d8                CV          False  "
      ]
     },
     "execution_count": 37,
     "metadata": {},
     "output_type": "execute_result"
    }
   ],
   "source": [
    "df_spls_all.tail()"
   ]
  },
  {
   "cell_type": "code",
   "execution_count": 38,
   "metadata": {},
   "outputs": [
    {
     "name": "stdout",
     "output_type": "stream",
     "text": [
      "<class 'pandas.core.frame.DataFrame'>\n",
      "Int64Index: 110975 entries, 0 to 110974\n",
      "Data columns (total 6 columns):\n",
      "spl_version          110975 non-null int64\n",
      "published_date       110975 non-null object\n",
      "title                110881 non-null object\n",
      "setid                110975 non-null object\n",
      "dea_schedule_code    110975 non-null object\n",
      "boxed_warning        110975 non-null bool\n",
      "dtypes: bool(1), int64(1), object(4)\n",
      "memory usage: 5.2+ MB\n"
     ]
    }
   ],
   "source": [
    "df_spls_all.info()"
   ]
  },
  {
   "cell_type": "markdown",
   "metadata": {},
   "source": [
    "#### Clean data"
   ]
  },
  {
   "cell_type": "markdown",
   "metadata": {},
   "source": [
    "In column 'title', I need to extract the manufacture and put it in another new column. Rename the 'title' as drug name"
   ]
  },
  {
   "cell_type": "code",
   "execution_count": 39,
   "metadata": {},
   "outputs": [],
   "source": [
    "df_spls_all['manufacturer']=df_spls_all['title'].str.split('[').str[1]\n",
    "df_spls_all['manufacturer']=df_spls_all['manufacturer'].str.strip(']')\n",
    "df_spls_all['title']=df_spls_all['title'].str.split('[').str[0]\n",
    "df_spls_all.rename({'title':'drug_name'}, axis=1, inplace=True)"
   ]
  },
  {
   "cell_type": "code",
   "execution_count": 40,
   "metadata": {},
   "outputs": [
    {
     "name": "stdout",
     "output_type": "stream",
     "text": [
      "<class 'pandas.core.frame.DataFrame'>\n",
      "Int64Index: 110975 entries, 0 to 110974\n",
      "Data columns (total 7 columns):\n",
      "spl_version          110975 non-null int64\n",
      "published_date       110975 non-null object\n",
      "drug_name            110881 non-null object\n",
      "setid                110975 non-null object\n",
      "dea_schedule_code    110975 non-null object\n",
      "boxed_warning        110975 non-null bool\n",
      "manufacturer         110880 non-null object\n",
      "dtypes: bool(1), int64(1), object(5)\n",
      "memory usage: 6.0+ MB\n"
     ]
    }
   ],
   "source": [
    "df_spls_all.info()"
   ]
  },
  {
   "cell_type": "code",
   "execution_count": 42,
   "metadata": {},
   "outputs": [],
   "source": [
    "#Delete the rows with null data\n",
    "df_spls_all.dropna(how='any',axis=0, inplace=True)\n",
    "df_spls_all.reset_index(drop=True, inplace=True)"
   ]
  },
  {
   "cell_type": "code",
   "execution_count": 46,
   "metadata": {},
   "outputs": [
    {
     "name": "stdout",
     "output_type": "stream",
     "text": [
      "<class 'pandas.core.frame.DataFrame'>\n",
      "RangeIndex: 110880 entries, 0 to 110879\n",
      "Data columns (total 7 columns):\n",
      "spl_version          110880 non-null int64\n",
      "published_date       110880 non-null object\n",
      "drug_name            110880 non-null object\n",
      "setid                110880 non-null object\n",
      "dea_schedule_code    110880 non-null object\n",
      "boxed_warning        110880 non-null bool\n",
      "manufacturer         110880 non-null object\n",
      "dtypes: bool(1), int64(1), object(5)\n",
      "memory usage: 5.2+ MB\n"
     ]
    }
   ],
   "source": [
    "df_spls_all.info()"
   ]
  },
  {
   "cell_type": "markdown",
   "metadata": {},
   "source": [
    "#### Save data"
   ]
  },
  {
   "cell_type": "markdown",
   "metadata": {},
   "source": [
    "The cleaned data are saved in 'marketed_drug' file"
   ]
  },
  {
   "cell_type": "code",
   "execution_count": 47,
   "metadata": {},
   "outputs": [],
   "source": [
    "df_spls_all.to_csv('marketedall_drug.csv', index=False)"
   ]
  },
  {
   "cell_type": "markdown",
   "metadata": {},
   "source": [
    "#### Exploratory data analysis"
   ]
  },
  {
   "cell_type": "markdown",
   "metadata": {},
   "source": [
    "Insights and visualization"
   ]
  },
  {
   "cell_type": "code",
   "execution_count": 4,
   "metadata": {},
   "outputs": [],
   "source": [
    "df=pd.read_csv('marketedall_drug.csv')"
   ]
  },
  {
   "cell_type": "code",
   "execution_count": 214,
   "metadata": {
    "scrolled": true
   },
   "outputs": [
    {
     "data": {
      "text/html": [
       "<div>\n",
       "<style scoped>\n",
       "    .dataframe tbody tr th:only-of-type {\n",
       "        vertical-align: middle;\n",
       "    }\n",
       "\n",
       "    .dataframe tbody tr th {\n",
       "        vertical-align: top;\n",
       "    }\n",
       "\n",
       "    .dataframe thead th {\n",
       "        text-align: right;\n",
       "    }\n",
       "</style>\n",
       "<table border=\"1\" class=\"dataframe\">\n",
       "  <thead>\n",
       "    <tr style=\"text-align: right;\">\n",
       "      <th></th>\n",
       "      <th>spl_version</th>\n",
       "      <th>published_date</th>\n",
       "      <th>drug_name</th>\n",
       "      <th>setid</th>\n",
       "      <th>dea_schedule_code</th>\n",
       "      <th>boxed_warning</th>\n",
       "      <th>manufacturer</th>\n",
       "    </tr>\n",
       "  </thead>\n",
       "  <tbody>\n",
       "    <tr>\n",
       "      <th>0</th>\n",
       "      <td>10</td>\n",
       "      <td>Jun 19, 2019</td>\n",
       "      <td>PYRIDOSTIGMINE BROMIDE TABLET, EXTENDED RELEASE</td>\n",
       "      <td>013a6524-6eb9-4dbf-b29c-9aec2f40d2d0</td>\n",
       "      <td>none</td>\n",
       "      <td>False</td>\n",
       "      <td>AMNEAL PHARMACEUTICALS OF NEW YORK LLC</td>\n",
       "    </tr>\n",
       "    <tr>\n",
       "      <th>1</th>\n",
       "      <td>9</td>\n",
       "      <td>Jun 19, 2019</td>\n",
       "      <td>FLURBIPROFEN TABLET, FILM COATED</td>\n",
       "      <td>0585c6bf-e401-4112-b4b4-c8d56c3b0f1c</td>\n",
       "      <td>none</td>\n",
       "      <td>True</td>\n",
       "      <td>PD-RX PHARMACEUTICALS, INC.</td>\n",
       "    </tr>\n",
       "    <tr>\n",
       "      <th>2</th>\n",
       "      <td>11</td>\n",
       "      <td>Jun 19, 2019</td>\n",
       "      <td>CLOPIDOGREL TABLET</td>\n",
       "      <td>063cd1eb-98fd-422e-8145-bba04c497efe</td>\n",
       "      <td>none</td>\n",
       "      <td>True</td>\n",
       "      <td>MACLEODS PHARMACEUTICALS LIMITED</td>\n",
       "    </tr>\n",
       "    <tr>\n",
       "      <th>3</th>\n",
       "      <td>9</td>\n",
       "      <td>Jun 19, 2019</td>\n",
       "      <td>DOCETAXEL INJECTION, SOLUTION, CONCENTRATE</td>\n",
       "      <td>07a538b3-2cf1-40e1-871f-f932863eb3a3</td>\n",
       "      <td>none</td>\n",
       "      <td>True</td>\n",
       "      <td>JIANGSU HENGRUI MEDICINE CO., LTD.</td>\n",
       "    </tr>\n",
       "    <tr>\n",
       "      <th>4</th>\n",
       "      <td>4</td>\n",
       "      <td>Jun 19, 2019</td>\n",
       "      <td>CLINDAMYCIN PALMITATE HYDROCHLORIDE (PEDIATRIC...</td>\n",
       "      <td>0800afad-e4cd-4f70-aaa1-a14547be4729</td>\n",
       "      <td>none</td>\n",
       "      <td>True</td>\n",
       "      <td>RISING PHARMACEUTICALS, INC.</td>\n",
       "    </tr>\n",
       "  </tbody>\n",
       "</table>\n",
       "</div>"
      ],
      "text/plain": [
       "   spl_version published_date  \\\n",
       "0           10   Jun 19, 2019   \n",
       "1            9   Jun 19, 2019   \n",
       "2           11   Jun 19, 2019   \n",
       "3            9   Jun 19, 2019   \n",
       "4            4   Jun 19, 2019   \n",
       "\n",
       "                                           drug_name  \\\n",
       "0   PYRIDOSTIGMINE BROMIDE TABLET, EXTENDED RELEASE    \n",
       "1                  FLURBIPROFEN TABLET, FILM COATED    \n",
       "2                                CLOPIDOGREL TABLET    \n",
       "3        DOCETAXEL INJECTION, SOLUTION, CONCENTRATE    \n",
       "4  CLINDAMYCIN PALMITATE HYDROCHLORIDE (PEDIATRIC...   \n",
       "\n",
       "                                  setid dea_schedule_code  boxed_warning  \\\n",
       "0  013a6524-6eb9-4dbf-b29c-9aec2f40d2d0              none          False   \n",
       "1  0585c6bf-e401-4112-b4b4-c8d56c3b0f1c              none           True   \n",
       "2  063cd1eb-98fd-422e-8145-bba04c497efe              none           True   \n",
       "3  07a538b3-2cf1-40e1-871f-f932863eb3a3              none           True   \n",
       "4  0800afad-e4cd-4f70-aaa1-a14547be4729              none           True   \n",
       "\n",
       "                             manufacturer  \n",
       "0  AMNEAL PHARMACEUTICALS OF NEW YORK LLC  \n",
       "1             PD-RX PHARMACEUTICALS, INC.  \n",
       "2        MACLEODS PHARMACEUTICALS LIMITED  \n",
       "3      JIANGSU HENGRUI MEDICINE CO., LTD.  \n",
       "4            RISING PHARMACEUTICALS, INC.  "
      ]
     },
     "execution_count": 214,
     "metadata": {},
     "output_type": "execute_result"
    }
   ],
   "source": [
    "df.head()"
   ]
  },
  {
   "cell_type": "code",
   "execution_count": 141,
   "metadata": {},
   "outputs": [
    {
     "data": {
      "text/plain": [
       "REMEDYREPACK INC.                                                               0.018038\n",
       "A-S MEDICATION SOLUTIONS                                                        0.018001\n",
       "BOIRON                                                                          0.016035\n",
       "BRYANT RANCH PREPACK                                                            0.014322\n",
       "WASHINGTON HOMEOPATHIC PRODUCTS                                                 0.013429\n",
       "URIEL PHARMACY INC.                                                             0.011986\n",
       "NUCARE PHARMACEUTICALS,INC.                                                     0.011264\n",
       "PROFICIENT RX LP                                                                0.010065\n",
       "PHYSICIANS TOTAL CARE, INC.                                                     0.009867\n",
       "CARDINAL HEALTH                                                                 0.009352\n",
       "SMITHS MEDICAL ASD, INC.                                                        0.009208\n",
       "CVS PHARMACY                                                                    0.009163\n",
       "PD-RX PHARMACEUTICALS, INC.                                                     0.007386\n",
       "RXHOMEO PRIVATE LIMITED D.B.A. RXHOMEO, INC                                     0.006394\n",
       "NUCARE PHARMACEUTICALS, INC.                                                    0.006187\n",
       "LAKE ERIE MEDICAL DBA QUALITY CARE PRODUCTS LLC                                 0.006034\n",
       "DESERET BIOLOGICALS, INC.                                                       0.005943\n",
       "APHENA PHARMA SOLUTIONS - TENNESSEE, LLC                                        0.005862\n",
       "REBEL DISTRIBUTORS CORP                                                         0.005664\n",
       "PREFERRED PHARMACEUTICALS INC.                                                  0.005655\n",
       "WALGREEN COMPANY                                                                0.004771\n",
       "DIRECT RX                                                                       0.004726\n",
       "AIDAREX PHARMACEUTICALS LLC                                                     0.004582\n",
       "THE PROCTER & GAMBLE MANUFACTURING COMPANY                                      0.004473\n",
       "ENERGIQUE, INC.                                                                 0.004221\n",
       "AX PHARMACEUTICAL CORP                                                          0.004203\n",
       "NCS HEALTHCARE OF KY, INC DBA VANGARD LABS                                      0.004194\n",
       "MCKESSON                                                                        0.004158\n",
       "TOPCO ASSOCIATES LLC                                                            0.004049\n",
       "NEWTON LABORATORIES, INC.                                                       0.004022\n",
       "                                                                                  ...   \n",
       "KALEO, INC.                                                                     0.000009\n",
       "BFS PHARMA, INC.                                                                0.000009\n",
       "CEDAR MOUNTAIN RESPIRATORY, INC.                                                0.000009\n",
       "STANDARD HOMEOIPATHIC COMMPANY                                                  0.000009\n",
       "QUALITY HOME MEDICAL, INC.                                                      0.000009\n",
       "AMPHASTAR PHARMACEUTICALS, INC.                                                 0.000009\n",
       "HECKMAN HEALTHCARE SERVICE & SUPPLIES INC.                                      0.000009\n",
       "AKCEA THERAPEUTICS, INC.                                                        0.000009\n",
       "DIVERSIFIED MEDICAL SUPPLY CORPORATION DBA MEDIGAS DISTRIBUTION AND SUPPLY\\t    0.000009\n",
       "MEGA GOOD INDUSTRIAL LIMITED                                                    0.000009\n",
       "POLYSCIENCES, INC                                                               0.000009\n",
       "UNISHIELD                                                                       0.000009\n",
       "NABI BIOPHARMACEUTICALS                                                         0.000009\n",
       "CVS PHARAMACY, INC                                                              0.000009\n",
       "ALL OXYGEN REFILLS, INC.                                                        0.000009\n",
       "P. BANERJI MIHIJAM PHARMACEUTICALS                                              0.000009\n",
       "FAMILY ENTERPRISES LLC DBA PREFERRED CYLINDER SERVICES                          0.000009\n",
       "BESTCO                                                                          0.000009\n",
       "FIRST CHOICE MEDICAL EQUIPMENT INC.                                             0.000009\n",
       "CELLAB CO., LTD.                                                                0.000009\n",
       "NUCARE PHARMACETICALS, INC.                                                     0.000009\n",
       "SPOMETICS INC.                                                                  0.000009\n",
       "ZEROSWEAT INC                                                                   0.000009\n",
       "TWEEN BRANDS INC.                                                               0.000009\n",
       "ENDURE HOLDINGS, LLC                                                            0.000009\n",
       "OMOROVICZA KOZMETIKAI KFT                                                       0.000009\n",
       "SYNERGY PHARMACEUTICALS INC.                                                    0.000009\n",
       "ALPINE HOME MEDICAL EQUIPMENT                                                   0.000009\n",
       "EAST COAST OXYGEN                                                               0.000009\n",
       "TERRAVIA, INC.                                                                  0.000009\n",
       "Name: manufacturer, Length: 9799, dtype: float64"
      ]
     },
     "execution_count": 141,
     "metadata": {},
     "output_type": "execute_result"
    }
   ],
   "source": [
    "# Check the percentage of each manufacturer in all\n",
    "df.manufacturer.value_counts(normalize=True)"
   ]
  },
  {
   "cell_type": "code",
   "execution_count": 142,
   "metadata": {},
   "outputs": [
    {
     "data": {
      "image/png": "[encoded data removed]",
      "text/plain": [
       "<Figure size 720x360 with 1 Axes>"
      ]
     },
     "metadata": {
      "needs_background": "light"
     },
     "output_type": "display_data"
    }
   ],
   "source": [
    "manufacturer_count  = df['manufacturer'].value_counts(normalize=True)\n",
    "manufacturer_count = manufacturer_count[:5,]\n",
    "plt.figure(figsize=(10,5))\n",
    "sns.barplot(manufacturer_count.index, manufacturer_count.values, alpha=0.8)\n",
    "plt.title('Top 5 manufacturer')\n",
    "plt.ylabel('percentage of the manufacturers', fontsize=10)\n",
    "plt.xlabel('manufacturer', fontsize=10)\n",
    "plt.show()"
   ]
  },
  {
   "cell_type": "code",
   "execution_count": 143,
   "metadata": {},
   "outputs": [
    {
     "data": {
      "text/plain": [
       "Text(0.5, 1.0, 'Top 5 manufacturers')"
      ]
     },
     "execution_count": 143,
     "metadata": {},
     "output_type": "execute_result"
    },
    {
     "data": {
      "image/png": "[encoded data removed]",
      "text/plain": [
       "<Figure size 720x720 with 1 Axes>"
      ]
     },
     "metadata": {},
     "output_type": "display_data"
    }
   ],
   "source": [
    "# pie chart of the percentage of top 5 manufacturers\n",
    "temp = df['manufacturer'].value_counts(normalize=True)\n",
    "temp2=temp.head(5)\n",
    "if len(temp) > 5:\n",
    "    temp2['remaining {0} manufacturers'.format(len(temp) - 5)] = temp[5:].sum()\n",
    "temp2.plot(kind='pie', figsize=(10,10), autopct='%1.1f%%')\n",
    "plt.title('Top 5 manufacturers', fontsize=15)"
   ]
  },
  {
   "cell_type": "code",
   "execution_count": 144,
   "metadata": {},
   "outputs": [
    {
     "data": {
      "text/plain": [
       "none    0.970112\n",
       "CIV     0.014051\n",
       "CII     0.009316\n",
       "CIII    0.004690\n",
       "CV      0.001831\n",
       "Name: dea_schedule_code, dtype: float64"
      ]
     },
     "execution_count": 144,
     "metadata": {},
     "output_type": "execute_result"
    }
   ],
   "source": [
    "# Check the percentage of each DEA schedule code in all\n",
    "df.dea_schedule_code.value_counts(normalize=True)"
   ]
  },
  {
   "cell_type": "code",
   "execution_count": 145,
   "metadata": {},
   "outputs": [
    {
     "data": {
      "text/plain": [
       "<matplotlib.axes._subplots.AxesSubplot at 0x1570afc5278>"
      ]
     },
     "execution_count": 145,
     "metadata": {},
     "output_type": "execute_result"
    },
    {
     "data": {
      "image/png": "[encoded data removed]",
      "text/plain": [
       "<Figure size 432x288 with 1 Axes>"
      ]
     },
     "metadata": {
      "needs_background": "light"
     },
     "output_type": "display_data"
    }
   ],
   "source": [
    "# bar chart of the percentage of each DEA schedule code in all\n",
    "df.dea_schedule_code.value_counts(normalize=True).plot(kind='bar')"
   ]
  },
  {
   "cell_type": "markdown",
   "metadata": {},
   "source": [
    "Check the box warnings from each manufacturer"
   ]
  },
  {
   "cell_type": "markdown",
   "metadata": {},
   "source": []
  },
  {
   "cell_type": "code",
   "execution_count": 146,
   "metadata": {},
   "outputs": [
    {
     "data": {
      "image/png": "[encoded data removed]",
      "text/plain": [
       "<Figure size 432x288 with 1 Axes>"
      ]
     },
     "metadata": {
      "needs_background": "light"
     },
     "output_type": "display_data"
    }
   ],
   "source": [
    "df_ma_bo=df.groupby('manufacturer',as_index=False)['boxed_warning'].sum()\n",
    "plt.scatter(df_ma_bo.index, df_ma_bo['boxed_warning'])\n",
    "plt.xlabel('manufacturer', fontsize=12)\n",
    "plt.ylabel('box_warning(times)', fontsize=12)\n",
    "plt.title('Boxed warning in each manufacturer')\n",
    "plt.show()"
   ]
  },
  {
   "cell_type": "code",
   "execution_count": 147,
   "metadata": {},
   "outputs": [
    {
     "data": {
      "text/plain": [
       "manufacturer\n",
       "REMEDYREPACK INC.                                                    841.0\n",
       "BRYANT RANCH PREPACK                                                 578.0\n",
       "A-S MEDICATION SOLUTIONS                                             564.0\n",
       "PROFICIENT RX LP                                                     333.0\n",
       "NUCARE PHARMACEUTICALS,INC.                                          332.0\n",
       "PD-RX PHARMACEUTICALS, INC.                                          303.0\n",
       "PHYSICIANS TOTAL CARE, INC.                                          253.0\n",
       "LAKE ERIE MEDICAL DBA QUALITY CARE PRODUCTS LLC                      234.0\n",
       "NUCARE PHARMACEUTICALS, INC.                                         218.0\n",
       "APHENA PHARMA SOLUTIONS - TENNESSEE, LLC                             217.0\n",
       "PREFERRED PHARMACEUTICALS INC.                                       202.0\n",
       "DIRECT RX                                                            170.0\n",
       "REDPHARM DRUG, INC.                                                  155.0\n",
       "AMERICAN HEALTH PACKAGING                                            145.0\n",
       "CARDINAL HEALTH                                                      143.0\n",
       "MYLAN PHARMACEUTICALS INC.                                           140.0\n",
       "AIDAREX PHARMACEUTICALS LLC                                          140.0\n",
       "NCS HEALTHCARE OF KY, INC DBA VANGARD LABS                           138.0\n",
       "STATE OF FLORIDA DOH CENTRAL PHARMACY                                137.0\n",
       "REBEL DISTRIBUTORS CORP                                              131.0\n",
       "AUROBINDO PHARMA LIMITED                                             124.0\n",
       "ACTAVIS PHARMA, INC.                                                 123.0\n",
       "PREFERRED PHARMACEUTICALS, INC.                                      121.0\n",
       "STAT RX USA LLC                                                      114.0\n",
       "NELCO LABORATORIES, INC.                                             113.0\n",
       "UNIT DOSE SERVICES                                                   110.0\n",
       "BLENHEIM PHARMACAL, INC.                                             108.0\n",
       "CARILION MATERIALS MANAGEMENT                                        103.0\n",
       "CONTRACT PHARMACY SERVICES-PA                                         99.0\n",
       "TEVA PHARMACEUTICALS USA, INC.                                        97.0\n",
       "                                                                     ...  \n",
       "NV PERRICONE LLC                                                       0.0\n",
       "NUVOTHERA, INC.                                                        0.0\n",
       "NUVO PHARMACEUTICAL INC.                                               0.0\n",
       "NUTRITION & FITNESS, INC. DBA NFI CONSUMER PRODUCTS, INC.              0.0\n",
       "O SKIN CARE LLC                                                        0.0\n",
       "NUTRIOMO LABS PTE, LTD                                                 0.0\n",
       "NUTRI-VET LLC                                                          0.0\n",
       "NUTRI-DYN PRODUCTS LTD. DBA PROFESSIONAL HEALTH PRODUCTS               0.0\n",
       "NUTRI VET WELLNESS LLC                                                 0.0\n",
       "NUTREXIN USA                                                           0.0\n",
       "NUTRASTIM HAIR LLC                                                     0.0\n",
       "NYX LOS ANGELES INC.                                                   0.0\n",
       "O'PRECARE                                                              0.0\n",
       "OAKTREE PRODUCTS, INC.                                                 0.0\n",
       "O24 NATURALS, LLC                                                      0.0\n",
       "OAKTREE PRODUCTS INC.                                                  0.0\n",
       "OAKLOCK, LLC                                                           0.0\n",
       "OAK PHARMACEUTICALS, INC. (SUBSIDIARY OF AKORN, INC.) (968937719)      0.0\n",
       "OAK PHARMACEUTICALS, INC. (SUBSIDIARY OF AKORN, INC.)                  0.0\n",
       "O4 GLOBAL TRADING USA, LLC                                             0.0\n",
       "O4 GLOBAL TRADING USA, LLC                                             0.0\n",
       "O24 NATURALS LLC                                                       0.0\n",
       "O.E. MEYER COMPANY                                                     0.0\n",
       "O2 PLUS, INC                                                           0.0\n",
       "O2 FOR U, INC.                                                         0.0\n",
       "O2 DEPOT, LLC                                                          0.0\n",
       "O2 4 U, L.L.C DBA O24U                                                 0.0\n",
       "O.P. PRODUCTS, INC.                                                    0.0\n",
       "O.L. PRODUCTS, INC,                                                    0.0\n",
       " AX PHARMACEUTICAL CORP                                                0.0\n",
       "Name: boxed_warning, Length: 9799, dtype: float64"
      ]
     },
     "execution_count": 147,
     "metadata": {},
     "output_type": "execute_result"
    }
   ],
   "source": [
    "df.groupby('manufacturer',as_index=True)['boxed_warning'].sum().sort_values(ascending=False)"
   ]
  },
  {
   "cell_type": "code",
   "execution_count": 170,
   "metadata": {},
   "outputs": [
    {
     "data": {
      "text/plain": [
       "manufacturer\n",
       "REMEDYREPACK INC.                                                    0.067221\n",
       "BRYANT RANCH PREPACK                                                 0.046199\n",
       "A-S MEDICATION SOLUTIONS                                             0.045080\n",
       "PROFICIENT RX LP                                                     0.026617\n",
       "NUCARE PHARMACEUTICALS,INC.                                          0.026537\n",
       "PD-RX PHARMACEUTICALS, INC.                                          0.024219\n",
       "PHYSICIANS TOTAL CARE, INC.                                          0.020222\n",
       "LAKE ERIE MEDICAL DBA QUALITY CARE PRODUCTS LLC                      0.018704\n",
       "NUCARE PHARMACEUTICALS, INC.                                         0.017425\n",
       "APHENA PHARMA SOLUTIONS - TENNESSEE, LLC                             0.017345\n",
       "PREFERRED PHARMACEUTICALS INC.                                       0.016146\n",
       "DIRECT RX                                                            0.013588\n",
       "REDPHARM DRUG, INC.                                                  0.012389\n",
       "AMERICAN HEALTH PACKAGING                                            0.011590\n",
       "CARDINAL HEALTH                                                      0.011430\n",
       "MYLAN PHARMACEUTICALS INC.                                           0.011190\n",
       "AIDAREX PHARMACEUTICALS LLC                                          0.011190\n",
       "NCS HEALTHCARE OF KY, INC DBA VANGARD LABS                           0.011030\n",
       "STATE OF FLORIDA DOH CENTRAL PHARMACY                                0.010950\n",
       "REBEL DISTRIBUTORS CORP                                              0.010471\n",
       "AUROBINDO PHARMA LIMITED                                             0.009911\n",
       "ACTAVIS PHARMA, INC.                                                 0.009831\n",
       "PREFERRED PHARMACEUTICALS, INC.                                      0.009671\n",
       "STAT RX USA LLC                                                      0.009112\n",
       "NELCO LABORATORIES, INC.                                             0.009032\n",
       "UNIT DOSE SERVICES                                                   0.008792\n",
       "BLENHEIM PHARMACAL, INC.                                             0.008632\n",
       "CARILION MATERIALS MANAGEMENT                                        0.008233\n",
       "CONTRACT PHARMACY SERVICES-PA                                        0.007913\n",
       "TEVA PHARMACEUTICALS USA, INC.                                       0.007753\n",
       "                                                                       ...   \n",
       "NV PERRICONE LLC                                                     0.000000\n",
       "NUVOTHERA, INC.                                                      0.000000\n",
       "NUVO PHARMACEUTICAL INC.                                             0.000000\n",
       "NUTRITION & FITNESS, INC. DBA NFI CONSUMER PRODUCTS, INC.            0.000000\n",
       "O SKIN CARE LLC                                                      0.000000\n",
       "NUTRIOMO LABS PTE, LTD                                               0.000000\n",
       "NUTRI-VET LLC                                                        0.000000\n",
       "NUTRI-DYN PRODUCTS LTD. DBA PROFESSIONAL HEALTH PRODUCTS             0.000000\n",
       "NUTRI VET WELLNESS LLC                                               0.000000\n",
       "NUTREXIN USA                                                         0.000000\n",
       "NUTRASTIM HAIR LLC                                                   0.000000\n",
       "NYX LOS ANGELES INC.                                                 0.000000\n",
       "O'PRECARE                                                            0.000000\n",
       "OAKTREE PRODUCTS, INC.                                               0.000000\n",
       "O24 NATURALS, LLC                                                    0.000000\n",
       "OAKTREE PRODUCTS INC.                                                0.000000\n",
       "OAKLOCK, LLC                                                         0.000000\n",
       "OAK PHARMACEUTICALS, INC. (SUBSIDIARY OF AKORN, INC.) (968937719)    0.000000\n",
       "OAK PHARMACEUTICALS, INC. (SUBSIDIARY OF AKORN, INC.)                0.000000\n",
       "O4 GLOBAL TRADING USA, LLC                                           0.000000\n",
       "O4 GLOBAL TRADING USA, LLC                                           0.000000\n",
       "O24 NATURALS LLC                                                     0.000000\n",
       "O.E. MEYER COMPANY                                                   0.000000\n",
       "O2 PLUS, INC                                                         0.000000\n",
       "O2 FOR U, INC.                                                       0.000000\n",
       "O2 DEPOT, LLC                                                        0.000000\n",
       "O2 4 U, L.L.C DBA O24U                                               0.000000\n",
       "O.P. PRODUCTS, INC.                                                  0.000000\n",
       "O.L. PRODUCTS, INC,                                                  0.000000\n",
       " AX PHARMACEUTICAL CORP                                              0.000000\n",
       "Name: boxed_warning, Length: 9799, dtype: float64"
      ]
     },
     "execution_count": 170,
     "metadata": {},
     "output_type": "execute_result"
    }
   ],
   "source": [
    "df.groupby('manufacturer',as_index=True)['boxed_warning'].sum().sort_values(ascending=False)/df.boxed_warning.sum()"
   ]
  },
  {
   "cell_type": "code",
   "execution_count": 171,
   "metadata": {},
   "outputs": [
    {
     "data": {
      "text/plain": [
       "Text(0.5, 1.0, 'Manufacturers with top 5 boxed warnings')"
      ]
     },
     "execution_count": 171,
     "metadata": {},
     "output_type": "execute_result"
    },
    {
     "data": {
      "image/png": "[encoded data removed]",
      "text/plain": [
       "<Figure size 720x720 with 1 Axes>"
      ]
     },
     "metadata": {},
     "output_type": "display_data"
    }
   ],
   "source": [
    "warning = df.groupby('manufacturer',as_index=True)['boxed_warning'].sum().sort_values(ascending=False)\n",
    "warning2=warning.head(5)\n",
    "if len(warning) > 5:\n",
    "    warning2['others'] = warning[5:].sum()\n",
    "warning2.plot(kind='pie', figsize=(10,10), autopct='%1.1f%%')\n",
    "plt.title('Manufacturers with top 5 boxed warnings', fontsize=15)"
   ]
  },
  {
   "cell_type": "code",
   "execution_count": 5,
   "metadata": {},
   "outputs": [],
   "source": [
    "df['controlled_substance'] = df['dea_schedule_code']\n",
    "df.loc[df['dea_schedule_code'] == 'none', 'controlled_substance'] = False\n",
    "df.loc[df['dea_schedule_code'] == 'CII', 'controlled_substance'] = True\n",
    "df.loc[df['dea_schedule_code'] == 'CIII', 'controlled_substance'] = True\n",
    "df.loc[df['dea_schedule_code'] == 'CIV', 'controlled_substance'] = True\n",
    "df.loc[df['dea_schedule_code'] == 'CV', 'controlled_substance'] = True"
   ]
  },
  {
   "cell_type": "code",
   "execution_count": 221,
   "metadata": {},
   "outputs": [
    {
     "data": {
      "text/html": [
       "<div>\n",
       "<style scoped>\n",
       "    .dataframe tbody tr th:only-of-type {\n",
       "        vertical-align: middle;\n",
       "    }\n",
       "\n",
       "    .dataframe tbody tr th {\n",
       "        vertical-align: top;\n",
       "    }\n",
       "\n",
       "    .dataframe thead th {\n",
       "        text-align: right;\n",
       "    }\n",
       "</style>\n",
       "<table border=\"1\" class=\"dataframe\">\n",
       "  <thead>\n",
       "    <tr style=\"text-align: right;\">\n",
       "      <th></th>\n",
       "      <th>spl_version</th>\n",
       "      <th>published_date</th>\n",
       "      <th>drug_name</th>\n",
       "      <th>setid</th>\n",
       "      <th>dea_schedule_code</th>\n",
       "      <th>boxed_warning</th>\n",
       "      <th>manufacturer</th>\n",
       "      <th>controlled_substance</th>\n",
       "    </tr>\n",
       "  </thead>\n",
       "  <tbody>\n",
       "    <tr>\n",
       "      <th>0</th>\n",
       "      <td>10</td>\n",
       "      <td>Jun 19, 2019</td>\n",
       "      <td>PYRIDOSTIGMINE BROMIDE TABLET, EXTENDED RELEASE</td>\n",
       "      <td>013a6524-6eb9-4dbf-b29c-9aec2f40d2d0</td>\n",
       "      <td>none</td>\n",
       "      <td>False</td>\n",
       "      <td>AMNEAL PHARMACEUTICALS OF NEW YORK LLC</td>\n",
       "      <td>False</td>\n",
       "    </tr>\n",
       "    <tr>\n",
       "      <th>1</th>\n",
       "      <td>9</td>\n",
       "      <td>Jun 19, 2019</td>\n",
       "      <td>FLURBIPROFEN TABLET, FILM COATED</td>\n",
       "      <td>0585c6bf-e401-4112-b4b4-c8d56c3b0f1c</td>\n",
       "      <td>none</td>\n",
       "      <td>True</td>\n",
       "      <td>PD-RX PHARMACEUTICALS, INC.</td>\n",
       "      <td>False</td>\n",
       "    </tr>\n",
       "    <tr>\n",
       "      <th>2</th>\n",
       "      <td>11</td>\n",
       "      <td>Jun 19, 2019</td>\n",
       "      <td>CLOPIDOGREL TABLET</td>\n",
       "      <td>063cd1eb-98fd-422e-8145-bba04c497efe</td>\n",
       "      <td>none</td>\n",
       "      <td>True</td>\n",
       "      <td>MACLEODS PHARMACEUTICALS LIMITED</td>\n",
       "      <td>False</td>\n",
       "    </tr>\n",
       "    <tr>\n",
       "      <th>3</th>\n",
       "      <td>9</td>\n",
       "      <td>Jun 19, 2019</td>\n",
       "      <td>DOCETAXEL INJECTION, SOLUTION, CONCENTRATE</td>\n",
       "      <td>07a538b3-2cf1-40e1-871f-f932863eb3a3</td>\n",
       "      <td>none</td>\n",
       "      <td>True</td>\n",
       "      <td>JIANGSU HENGRUI MEDICINE CO., LTD.</td>\n",
       "      <td>False</td>\n",
       "    </tr>\n",
       "    <tr>\n",
       "      <th>4</th>\n",
       "      <td>4</td>\n",
       "      <td>Jun 19, 2019</td>\n",
       "      <td>CLINDAMYCIN PALMITATE HYDROCHLORIDE (PEDIATRIC...</td>\n",
       "      <td>0800afad-e4cd-4f70-aaa1-a14547be4729</td>\n",
       "      <td>none</td>\n",
       "      <td>True</td>\n",
       "      <td>RISING PHARMACEUTICALS, INC.</td>\n",
       "      <td>False</td>\n",
       "    </tr>\n",
       "  </tbody>\n",
       "</table>\n",
       "</div>"
      ],
      "text/plain": [
       "   spl_version published_date  \\\n",
       "0           10   Jun 19, 2019   \n",
       "1            9   Jun 19, 2019   \n",
       "2           11   Jun 19, 2019   \n",
       "3            9   Jun 19, 2019   \n",
       "4            4   Jun 19, 2019   \n",
       "\n",
       "                                           drug_name  \\\n",
       "0   PYRIDOSTIGMINE BROMIDE TABLET, EXTENDED RELEASE    \n",
       "1                  FLURBIPROFEN TABLET, FILM COATED    \n",
       "2                                CLOPIDOGREL TABLET    \n",
       "3        DOCETAXEL INJECTION, SOLUTION, CONCENTRATE    \n",
       "4  CLINDAMYCIN PALMITATE HYDROCHLORIDE (PEDIATRIC...   \n",
       "\n",
       "                                  setid dea_schedule_code  boxed_warning  \\\n",
       "0  013a6524-6eb9-4dbf-b29c-9aec2f40d2d0              none          False   \n",
       "1  0585c6bf-e401-4112-b4b4-c8d56c3b0f1c              none           True   \n",
       "2  063cd1eb-98fd-422e-8145-bba04c497efe              none           True   \n",
       "3  07a538b3-2cf1-40e1-871f-f932863eb3a3              none           True   \n",
       "4  0800afad-e4cd-4f70-aaa1-a14547be4729              none           True   \n",
       "\n",
       "                             manufacturer  controlled_substance  \n",
       "0  AMNEAL PHARMACEUTICALS OF NEW YORK LLC                 False  \n",
       "1             PD-RX PHARMACEUTICALS, INC.                 False  \n",
       "2        MACLEODS PHARMACEUTICALS LIMITED                 False  \n",
       "3      JIANGSU HENGRUI MEDICINE CO., LTD.                 False  \n",
       "4            RISING PHARMACEUTICALS, INC.                 False  "
      ]
     },
     "execution_count": 221,
     "metadata": {},
     "output_type": "execute_result"
    }
   ],
   "source": [
    "df.head()"
   ]
  },
  {
   "cell_type": "code",
   "execution_count": 174,
   "metadata": {},
   "outputs": [
    {
     "data": {
      "text/plain": [
       "False    107566\n",
       "True       3314\n",
       "Name: controlled_substance, dtype: int64"
      ]
     },
     "execution_count": 174,
     "metadata": {},
     "output_type": "execute_result"
    }
   ],
   "source": [
    "df.controlled_substance.value_counts()"
   ]
  },
  {
   "cell_type": "code",
   "execution_count": 175,
   "metadata": {},
   "outputs": [
    {
     "name": "stdout",
     "output_type": "stream",
     "text": [
      "<class 'pandas.core.frame.DataFrame'>\n",
      "RangeIndex: 110880 entries, 0 to 110879\n",
      "Data columns (total 8 columns):\n",
      "spl_version             110880 non-null int64\n",
      "published_date          110880 non-null object\n",
      "drug_name               110846 non-null object\n",
      "setid                   110880 non-null object\n",
      "dea_schedule_code       110880 non-null object\n",
      "boxed_warning           110880 non-null bool\n",
      "manufacturer            110880 non-null object\n",
      "controlled_substance    110880 non-null bool\n",
      "dtypes: bool(2), int64(1), object(5)\n",
      "memory usage: 5.3+ MB\n"
     ]
    }
   ],
   "source": [
    "df.info()"
   ]
  },
  {
   "cell_type": "code",
   "execution_count": 182,
   "metadata": {},
   "outputs": [
    {
     "data": {
      "text/plain": [
       "manufacturer\n",
       "BRYANT RANCH PREPACK                               0.060048\n",
       "A-S MEDICATION SOLUTIONS                           0.037719\n",
       "LAKE ERIE MEDICAL DBA QUALITY CARE PRODUCTS LLC    0.031080\n",
       "PHYSICIANS TOTAL CARE, INC.                        0.029270\n",
       "PROFICIENT RX LP                                   0.028063\n",
       "APHENA PHARMA SOLUTIONS - TENNESSEE, LLC           0.024442\n",
       "STAT RX USA LLC                                    0.024140\n",
       "REMEDYREPACK INC.                                  0.023235\n",
       "REBEL DISTRIBUTORS CORP                            0.019312\n",
       "PD-RX PHARMACEUTICALS, INC.                        0.019312\n",
       "REDPHARM DRUG, INC.                                0.018105\n",
       "AIDAREX PHARMACEUTICALS LLC                        0.017200\n",
       "NUCARE PHARMACEUTICALS, INC.                       0.016295\n",
       "ACTAVIS PHARMA, INC.                               0.015691\n",
       "DIRECT RX                                          0.015088\n",
       "NUCARE PHARMACEUTICALS,INC.                        0.014484\n",
       "UNIT DOSE SERVICES                                 0.014182\n",
       "DISPENSING SOLUTIONS, INC.                         0.013881\n",
       "CANTRELL DRUG COMPANY                              0.012674\n",
       "WEST-WARD PHARMACEUTICALS CORP.                    0.012674\n",
       "PREFERRED PHARMACEUTICALS INC.                     0.011165\n",
       "H.J. HARKINS COMPANY, INC.                         0.011165\n",
       "AMERICAN HEALTH PACKAGING                          0.010863\n",
       "CONTRACT PHARMACY SERVICES-PA                      0.010260\n",
       "PREFERRED PHARMACEUTICALS, INC.                    0.009656\n",
       "HOSPIRA, INC.                                      0.009354\n",
       "SPECGX LLC                                         0.009053\n",
       "LANNETT COMPANY, INC.                              0.008751\n",
       "MAJOR PHARMACEUTICALS                              0.008147\n",
       "BLENHEIM PHARMACAL, INC.                           0.008147\n",
       "                                                     ...   \n",
       "OMP, INC.                                          0.000000\n",
       "OMOROVICZA KOZMETIKAI KFT.                         0.000000\n",
       "OMOROVICZA KOZMETIKAI KFT                          0.000000\n",
       "OMOM PHARMACEUTICALS, INC.                         0.000000\n",
       "OMG MEDICAL GROUP, LLC                             0.000000\n",
       "OMEZA LLC                                          0.000000\n",
       "OMEROS CORPORATION\\r\\n                             0.000000\n",
       "OMEGA TECH LABS INC.                               0.000000\n",
       "OMEGA INDUSTRIAL SUPPLY, INC.                      0.000000\n",
       "OMEGA & DELTA CO., INC.                            0.000000\n",
       "OMEGA & DELTA CO. INC.                             0.000000\n",
       "ONE2ZEE LIMITED LIABILITY COMPANY                  0.000000\n",
       "ONEFACE CO., LTD.                                  0.000000\n",
       "ONELINESUN CO., LTD.                               0.000000\n",
       "ONPOINR, INC                                       0.000000\n",
       "ONYX PHARMACEUTICALS, INC.                         0.000000\n",
       "ONY BIOTECH INC.                                   0.000000\n",
       "ONSET DERMATOLOGICS, LLC                           0.000000\n",
       "ONSET DERMATOLOGICS LLC                            0.000000\n",
       "ONPOINT, INC.                                      0.000000\n",
       "ONPOINT, INC                                       0.000000\n",
       "ONPHARMA, INC.                                     0.000000\n",
       "ONESKIN COSMETICS CO., LTD.                        0.000000\n",
       "ONPACE PHARMA, LLC                                 0.000000\n",
       "ONLY YOURX, INC.                                   0.000000\n",
       "ONLY YOURX INC.                                    0.000000\n",
       "ONLY NATURAL PET STORE                             0.000000\n",
       "ONLY NATURAL PET                                   0.000000\n",
       "ONID TECHNOLOGY CORP                               0.000000\n",
       " AX PHARMACEUTICAL CORP                            0.000000\n",
       "Name: controlled_substance, Length: 9799, dtype: float64"
      ]
     },
     "execution_count": 182,
     "metadata": {},
     "output_type": "execute_result"
    }
   ],
   "source": [
    "df.groupby('manufacturer')['controlled_substance'].sum().sort_values(ascending=False)/df.controlled_substance.sum()"
   ]
  },
  {
   "cell_type": "code",
   "execution_count": 183,
   "metadata": {},
   "outputs": [
    {
     "data": {
      "text/plain": [
       "Text(0.5, 1.0, 'Manufacturers with top 5 scheduled substance')"
      ]
     },
     "execution_count": 183,
     "metadata": {},
     "output_type": "execute_result"
    },
    {
     "data": {
      "image/png": "[encoded data removed]",
      "text/plain": [
       "<Figure size 720x720 with 1 Axes>"
      ]
     },
     "metadata": {},
     "output_type": "display_data"
    }
   ],
   "source": [
    "scheduled = df.groupby('manufacturer')['controlled_substance'].sum().sort_values(ascending=False)\n",
    "scheduled2=scheduled.head(5)\n",
    "if len(scheduled) > 5:\n",
    "    scheduled2['others'] = scheduled[5:].sum()\n",
    "scheduled2.plot(kind='pie', figsize=(10,10), autopct='%1.1f%%')\n",
    "plt.title('Manufacturers with top 5 scheduled substance', fontsize=15)"
   ]
  },
  {
   "cell_type": "markdown",
   "metadata": {},
   "source": [
    "##### Machine learning"
   ]
  },
  {
   "cell_type": "markdown",
   "metadata": {},
   "source": [
    "I use the logistic regression model"
   ]
  },
  {
   "cell_type": "markdown",
   "metadata": {},
   "source": [
    "Get dummy variables for column 'boxed_warning' and 'dea_schedule_warning'"
   ]
  },
  {
   "cell_type": "code",
   "execution_count": 229,
   "metadata": {},
   "outputs": [],
   "source": [
    "df[['boxed_warning', 'no_boxed_warning']]=pd.get_dummies(df['boxed_warning'])"
   ]
  },
  {
   "cell_type": "code",
   "execution_count": 231,
   "metadata": {},
   "outputs": [],
   "source": [
    "#drop one baseline column\n",
    "df=df.drop('no_boxed_warning', axis=1)"
   ]
  },
  {
   "cell_type": "code",
   "execution_count": 232,
   "metadata": {},
   "outputs": [
    {
     "data": {
      "text/html": [
       "<div>\n",
       "<style scoped>\n",
       "    .dataframe tbody tr th:only-of-type {\n",
       "        vertical-align: middle;\n",
       "    }\n",
       "\n",
       "    .dataframe tbody tr th {\n",
       "        vertical-align: top;\n",
       "    }\n",
       "\n",
       "    .dataframe thead th {\n",
       "        text-align: right;\n",
       "    }\n",
       "</style>\n",
       "<table border=\"1\" class=\"dataframe\">\n",
       "  <thead>\n",
       "    <tr style=\"text-align: right;\">\n",
       "      <th></th>\n",
       "      <th>spl_version</th>\n",
       "      <th>published_date</th>\n",
       "      <th>drug_name</th>\n",
       "      <th>setid</th>\n",
       "      <th>dea_schedule_code</th>\n",
       "      <th>boxed_warning</th>\n",
       "      <th>manufacturer</th>\n",
       "      <th>controlled_substance</th>\n",
       "    </tr>\n",
       "  </thead>\n",
       "  <tbody>\n",
       "    <tr>\n",
       "      <th>0</th>\n",
       "      <td>10</td>\n",
       "      <td>Jun 19, 2019</td>\n",
       "      <td>PYRIDOSTIGMINE BROMIDE TABLET, EXTENDED RELEASE</td>\n",
       "      <td>013a6524-6eb9-4dbf-b29c-9aec2f40d2d0</td>\n",
       "      <td>none</td>\n",
       "      <td>1</td>\n",
       "      <td>AMNEAL PHARMACEUTICALS OF NEW YORK LLC</td>\n",
       "      <td>False</td>\n",
       "    </tr>\n",
       "    <tr>\n",
       "      <th>1</th>\n",
       "      <td>9</td>\n",
       "      <td>Jun 19, 2019</td>\n",
       "      <td>FLURBIPROFEN TABLET, FILM COATED</td>\n",
       "      <td>0585c6bf-e401-4112-b4b4-c8d56c3b0f1c</td>\n",
       "      <td>none</td>\n",
       "      <td>0</td>\n",
       "      <td>PD-RX PHARMACEUTICALS, INC.</td>\n",
       "      <td>False</td>\n",
       "    </tr>\n",
       "    <tr>\n",
       "      <th>2</th>\n",
       "      <td>11</td>\n",
       "      <td>Jun 19, 2019</td>\n",
       "      <td>CLOPIDOGREL TABLET</td>\n",
       "      <td>063cd1eb-98fd-422e-8145-bba04c497efe</td>\n",
       "      <td>none</td>\n",
       "      <td>0</td>\n",
       "      <td>MACLEODS PHARMACEUTICALS LIMITED</td>\n",
       "      <td>False</td>\n",
       "    </tr>\n",
       "    <tr>\n",
       "      <th>3</th>\n",
       "      <td>9</td>\n",
       "      <td>Jun 19, 2019</td>\n",
       "      <td>DOCETAXEL INJECTION, SOLUTION, CONCENTRATE</td>\n",
       "      <td>07a538b3-2cf1-40e1-871f-f932863eb3a3</td>\n",
       "      <td>none</td>\n",
       "      <td>0</td>\n",
       "      <td>JIANGSU HENGRUI MEDICINE CO., LTD.</td>\n",
       "      <td>False</td>\n",
       "    </tr>\n",
       "    <tr>\n",
       "      <th>4</th>\n",
       "      <td>4</td>\n",
       "      <td>Jun 19, 2019</td>\n",
       "      <td>CLINDAMYCIN PALMITATE HYDROCHLORIDE (PEDIATRIC...</td>\n",
       "      <td>0800afad-e4cd-4f70-aaa1-a14547be4729</td>\n",
       "      <td>none</td>\n",
       "      <td>0</td>\n",
       "      <td>RISING PHARMACEUTICALS, INC.</td>\n",
       "      <td>False</td>\n",
       "    </tr>\n",
       "  </tbody>\n",
       "</table>\n",
       "</div>"
      ],
      "text/plain": [
       "   spl_version published_date  \\\n",
       "0           10   Jun 19, 2019   \n",
       "1            9   Jun 19, 2019   \n",
       "2           11   Jun 19, 2019   \n",
       "3            9   Jun 19, 2019   \n",
       "4            4   Jun 19, 2019   \n",
       "\n",
       "                                           drug_name  \\\n",
       "0   PYRIDOSTIGMINE BROMIDE TABLET, EXTENDED RELEASE    \n",
       "1                  FLURBIPROFEN TABLET, FILM COATED    \n",
       "2                                CLOPIDOGREL TABLET    \n",
       "3        DOCETAXEL INJECTION, SOLUTION, CONCENTRATE    \n",
       "4  CLINDAMYCIN PALMITATE HYDROCHLORIDE (PEDIATRIC...   \n",
       "\n",
       "                                  setid dea_schedule_code  boxed_warning  \\\n",
       "0  013a6524-6eb9-4dbf-b29c-9aec2f40d2d0              none              1   \n",
       "1  0585c6bf-e401-4112-b4b4-c8d56c3b0f1c              none              0   \n",
       "2  063cd1eb-98fd-422e-8145-bba04c497efe              none              0   \n",
       "3  07a538b3-2cf1-40e1-871f-f932863eb3a3              none              0   \n",
       "4  0800afad-e4cd-4f70-aaa1-a14547be4729              none              0   \n",
       "\n",
       "                             manufacturer  controlled_substance  \n",
       "0  AMNEAL PHARMACEUTICALS OF NEW YORK LLC                 False  \n",
       "1             PD-RX PHARMACEUTICALS, INC.                 False  \n",
       "2        MACLEODS PHARMACEUTICALS LIMITED                 False  \n",
       "3      JIANGSU HENGRUI MEDICINE CO., LTD.                 False  \n",
       "4            RISING PHARMACEUTICALS, INC.                 False  "
      ]
     },
     "execution_count": 232,
     "metadata": {},
     "output_type": "execute_result"
    }
   ],
   "source": [
    "df.head()"
   ]
  },
  {
   "cell_type": "code",
   "execution_count": 233,
   "metadata": {},
   "outputs": [],
   "source": [
    "df[['none','CII','CIII','CIV','CV']]=pd.get_dummies(df['dea_schedule_code'])"
   ]
  },
  {
   "cell_type": "code",
   "execution_count": 236,
   "metadata": {},
   "outputs": [],
   "source": [
    "#drop one baseline column\n",
    "df=df.drop('CV', axis=1)"
   ]
  },
  {
   "cell_type": "code",
   "execution_count": 247,
   "metadata": {},
   "outputs": [
    {
     "data": {
      "text/html": [
       "<div>\n",
       "<style scoped>\n",
       "    .dataframe tbody tr th:only-of-type {\n",
       "        vertical-align: middle;\n",
       "    }\n",
       "\n",
       "    .dataframe tbody tr th {\n",
       "        vertical-align: top;\n",
       "    }\n",
       "\n",
       "    .dataframe thead th {\n",
       "        text-align: right;\n",
       "    }\n",
       "</style>\n",
       "<table border=\"1\" class=\"dataframe\">\n",
       "  <thead>\n",
       "    <tr style=\"text-align: right;\">\n",
       "      <th></th>\n",
       "      <th>spl_version</th>\n",
       "      <th>published_date</th>\n",
       "      <th>drug_name</th>\n",
       "      <th>setid</th>\n",
       "      <th>dea_schedule_code</th>\n",
       "      <th>boxed_warning</th>\n",
       "      <th>manufacturer</th>\n",
       "      <th>controlled_substance</th>\n",
       "      <th>none</th>\n",
       "      <th>CII</th>\n",
       "      <th>CIII</th>\n",
       "      <th>CIV</th>\n",
       "    </tr>\n",
       "  </thead>\n",
       "  <tbody>\n",
       "    <tr>\n",
       "      <th>0</th>\n",
       "      <td>10</td>\n",
       "      <td>Jun 19, 2019</td>\n",
       "      <td>PYRIDOSTIGMINE BROMIDE TABLET, EXTENDED RELEASE</td>\n",
       "      <td>013a6524-6eb9-4dbf-b29c-9aec2f40d2d0</td>\n",
       "      <td>none</td>\n",
       "      <td>1</td>\n",
       "      <td>AMNEAL PHARMACEUTICALS OF NEW YORK LLC</td>\n",
       "      <td>False</td>\n",
       "      <td>0</td>\n",
       "      <td>0</td>\n",
       "      <td>0</td>\n",
       "      <td>0</td>\n",
       "    </tr>\n",
       "    <tr>\n",
       "      <th>1</th>\n",
       "      <td>9</td>\n",
       "      <td>Jun 19, 2019</td>\n",
       "      <td>FLURBIPROFEN TABLET, FILM COATED</td>\n",
       "      <td>0585c6bf-e401-4112-b4b4-c8d56c3b0f1c</td>\n",
       "      <td>none</td>\n",
       "      <td>0</td>\n",
       "      <td>PD-RX PHARMACEUTICALS, INC.</td>\n",
       "      <td>False</td>\n",
       "      <td>0</td>\n",
       "      <td>0</td>\n",
       "      <td>0</td>\n",
       "      <td>0</td>\n",
       "    </tr>\n",
       "    <tr>\n",
       "      <th>2</th>\n",
       "      <td>11</td>\n",
       "      <td>Jun 19, 2019</td>\n",
       "      <td>CLOPIDOGREL TABLET</td>\n",
       "      <td>063cd1eb-98fd-422e-8145-bba04c497efe</td>\n",
       "      <td>none</td>\n",
       "      <td>0</td>\n",
       "      <td>MACLEODS PHARMACEUTICALS LIMITED</td>\n",
       "      <td>False</td>\n",
       "      <td>0</td>\n",
       "      <td>0</td>\n",
       "      <td>0</td>\n",
       "      <td>0</td>\n",
       "    </tr>\n",
       "    <tr>\n",
       "      <th>3</th>\n",
       "      <td>9</td>\n",
       "      <td>Jun 19, 2019</td>\n",
       "      <td>DOCETAXEL INJECTION, SOLUTION, CONCENTRATE</td>\n",
       "      <td>07a538b3-2cf1-40e1-871f-f932863eb3a3</td>\n",
       "      <td>none</td>\n",
       "      <td>0</td>\n",
       "      <td>JIANGSU HENGRUI MEDICINE CO., LTD.</td>\n",
       "      <td>False</td>\n",
       "      <td>0</td>\n",
       "      <td>0</td>\n",
       "      <td>0</td>\n",
       "      <td>0</td>\n",
       "    </tr>\n",
       "    <tr>\n",
       "      <th>4</th>\n",
       "      <td>4</td>\n",
       "      <td>Jun 19, 2019</td>\n",
       "      <td>CLINDAMYCIN PALMITATE HYDROCHLORIDE (PEDIATRIC...</td>\n",
       "      <td>0800afad-e4cd-4f70-aaa1-a14547be4729</td>\n",
       "      <td>none</td>\n",
       "      <td>0</td>\n",
       "      <td>RISING PHARMACEUTICALS, INC.</td>\n",
       "      <td>False</td>\n",
       "      <td>0</td>\n",
       "      <td>0</td>\n",
       "      <td>0</td>\n",
       "      <td>0</td>\n",
       "    </tr>\n",
       "  </tbody>\n",
       "</table>\n",
       "</div>"
      ],
      "text/plain": [
       "   spl_version published_date  \\\n",
       "0           10   Jun 19, 2019   \n",
       "1            9   Jun 19, 2019   \n",
       "2           11   Jun 19, 2019   \n",
       "3            9   Jun 19, 2019   \n",
       "4            4   Jun 19, 2019   \n",
       "\n",
       "                                           drug_name  \\\n",
       "0   PYRIDOSTIGMINE BROMIDE TABLET, EXTENDED RELEASE    \n",
       "1                  FLURBIPROFEN TABLET, FILM COATED    \n",
       "2                                CLOPIDOGREL TABLET    \n",
       "3        DOCETAXEL INJECTION, SOLUTION, CONCENTRATE    \n",
       "4  CLINDAMYCIN PALMITATE HYDROCHLORIDE (PEDIATRIC...   \n",
       "\n",
       "                                  setid dea_schedule_code  boxed_warning  \\\n",
       "0  013a6524-6eb9-4dbf-b29c-9aec2f40d2d0              none              1   \n",
       "1  0585c6bf-e401-4112-b4b4-c8d56c3b0f1c              none              0   \n",
       "2  063cd1eb-98fd-422e-8145-bba04c497efe              none              0   \n",
       "3  07a538b3-2cf1-40e1-871f-f932863eb3a3              none              0   \n",
       "4  0800afad-e4cd-4f70-aaa1-a14547be4729              none              0   \n",
       "\n",
       "                             manufacturer  controlled_substance  none  CII  \\\n",
       "0  AMNEAL PHARMACEUTICALS OF NEW YORK LLC                 False     0    0   \n",
       "1             PD-RX PHARMACEUTICALS, INC.                 False     0    0   \n",
       "2        MACLEODS PHARMACEUTICALS LIMITED                 False     0    0   \n",
       "3      JIANGSU HENGRUI MEDICINE CO., LTD.                 False     0    0   \n",
       "4            RISING PHARMACEUTICALS, INC.                 False     0    0   \n",
       "\n",
       "   CIII  CIV  \n",
       "0     0    0  \n",
       "1     0    0  \n",
       "2     0    0  \n",
       "3     0    0  \n",
       "4     0    0  "
      ]
     },
     "execution_count": 247,
     "metadata": {},
     "output_type": "execute_result"
    }
   ],
   "source": [
    "df.head()"
   ]
  },
  {
   "cell_type": "code",
   "execution_count": 249,
   "metadata": {},
   "outputs": [
    {
     "name": "stdout",
     "output_type": "stream",
     "text": [
      "X_train shape:  (83160, 4)\n",
      "y_train shape:  (83160,)\n"
     ]
    }
   ],
   "source": [
    "# set up X and y, split into traning and test sets\n",
    "X=df[['none','CII','CII','CIV']]\n",
    "y=df['boxed_warning']\n",
    "X_train, X_test, y_train, y_test = train_test_split(X, y, test_size = 0.25, random_state = 0)\n",
    "print(\"X_train shape: \", X_train.shape)\n",
    "print(\"y_train shape: \", y_train.shape)"
   ]
  },
  {
   "cell_type": "code",
   "execution_count": 252,
   "metadata": {},
   "outputs": [
    {
     "data": {
      "text/plain": [
       "LogisticRegression(C=1.0, class_weight=None, dual=False, fit_intercept=True,\n",
       "          intercept_scaling=1, max_iter=100, multi_class='warn',\n",
       "          n_jobs=None, penalty='l2', random_state=0, solver='lbfgs',\n",
       "          tol=0.0001, verbose=0, warm_start=False)"
      ]
     },
     "execution_count": 252,
     "metadata": {},
     "output_type": "execute_result"
    }
   ],
   "source": [
    "# Fitting Logistic Regression to the training Set\n",
    "classifier = LogisticRegression(random_state = 0, solver='lbfgs')\n",
    "classifier.fit(X_train, y_train)"
   ]
  },
  {
   "cell_type": "code",
   "execution_count": 253,
   "metadata": {},
   "outputs": [
    {
     "name": "stdout",
     "output_type": "stream",
     "text": [
      "[1 1 1 1 1]\n"
     ]
    }
   ],
   "source": [
    "# Predicting the Test Set Results\n",
    "y_pred = classifier.predict(X_test)\n",
    "print(y_pred[:5])"
   ]
  },
  {
   "cell_type": "code",
   "execution_count": 254,
   "metadata": {},
   "outputs": [
    {
     "data": {
      "text/plain": [
       "0.891955266955267"
      ]
     },
     "execution_count": 254,
     "metadata": {},
     "output_type": "execute_result"
    }
   ],
   "source": [
    "# model traning accuracy\n",
    "classifier.score(X_train, y_train)"
   ]
  },
  {
   "cell_type": "code",
   "execution_count": 259,
   "metadata": {},
   "outputs": [
    {
     "data": {
      "text/plain": [
       "0.8931096681096681"
      ]
     },
     "execution_count": 259,
     "metadata": {},
     "output_type": "execute_result"
    }
   ],
   "source": [
    "# testing accuracy\n",
    "accuracy_score(y_test, y_pred)"
   ]
  },
  {
   "cell_type": "code",
   "execution_count": 266,
   "metadata": {},
   "outputs": [
    {
     "name": "stdout",
     "output_type": "stream",
     "text": [
      "[[  196  2896]\n",
      " [   67 24561]]\n"
     ]
    }
   ],
   "source": [
    "cm = confusion_matrix(y_test, y_pred)\n",
    "print(cm)"
   ]
  }
 ],
 "metadata": {
  "kernelspec": {
   "display_name": "Python 3",
   "language": "python",
   "name": "python3"
  },
  "language_info": {
   "codemirror_mode": {
    "name": "ipython",
    "version": 3
   },
   "file_extension": ".py",
   "mimetype": "text/x-python",
   "name": "python",
   "nbconvert_exporter": "python",
   "pygments_lexer": "ipython3",
   "version": "3.7.1"
  }
 },
 "nbformat": 4,
 "nbformat_minor": 2
}
